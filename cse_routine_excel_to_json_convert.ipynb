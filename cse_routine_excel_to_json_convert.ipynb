{
  "nbformat": 4,
  "nbformat_minor": 0,
  "metadata": {
    "colab": {
      "provenance": [],
      "toc_visible": true
    },
    "kernelspec": {
      "name": "python3",
      "display_name": "Python 3"
    },
    "language_info": {
      "name": "python"
    }
  },
  "cells": [
    {
      "cell_type": "code",
      "execution_count": null,
      "metadata": {
        "id": "r6P-TbhvfSpJ"
      },
      "outputs": [],
      "source": [
        "file_path = \"/content/BSc-in-CSE-Day-Batches-Class-Routine-Spring-2024-V-10-Active-from-02-05-2024.xlsx\""
      ]
    },
    {
      "cell_type": "code",
      "source": [
        "import pandas as pd\n",
        "import json\n",
        "\n",
        "df = pd.read_excel(file_path, header=[1,2,3,4])\n",
        "df.fillna(\"not availabe\", inplace=True)\n",
        "FIELDS = [\"subject\", \"subject_code\", \"teacher_code\", \"lab_no\", \"room_no\"]\n",
        "\n",
        "grouped = df.groupby(df.index // 5)\n",
        "\n",
        "schedule_data = []\n",
        "for group_name, group_data in grouped:\n",
        "    max_index = len(group_data.columns)\n",
        "    headers = group_data.columns\n",
        "    section_name = group_data.iloc[0, 0]\n",
        "\n",
        "    for j in range(1, max_index):\n",
        "        section = {}\n",
        "        for i in range(0,5):\n",
        "            items = group_data.iloc[i, j]\n",
        "            if i==0 and type(items) == float:\n",
        "                print(\"none value\")\n",
        "                continue\n",
        "            else:\n",
        "                section[FIELDS[i]] = items\n",
        "                print(FIELDS[i], \":\", items)\n",
        "        header_info = headers[j]\n",
        "        day = header_info[0]\n",
        "        class_no = header_info[1]\n",
        "        start_time = header_info[2]\n",
        "        end_time = header_info[3]\n",
        "\n",
        "        section[\"day\"] = day\n",
        "        section[\"class_no\"] = class_no\n",
        "        section[\"start_time\"] = start_time\n",
        "        section[\"end_time\"] = end_time\n",
        "        section[\"section\"] = section_name\n",
        "\n",
        "        schedule_data.append(section)\n",
        "        print()\n",
        "        print(\"day:\", \":\", day)\n",
        "        print(\"class_no\", \":\", class_no)\n",
        "        print(\"start_time\", \":\", start_time)\n",
        "        print(\"end_time\", \":\", end_time)\n",
        "        print(\"section\", \":\", section_name)\n",
        "        print(\"--------------------**-----------------------\")\n",
        "\n",
        "# Save as JSON\n",
        "with open('cse_schedule_data.json', 'w') as json_file:\n",
        "    json.dump(schedule_data, json_file, indent=4)\n"
      ],
      "metadata": {
        "id": "G_Of8t5GO-M8"
      },
      "execution_count": null,
      "outputs": []
    },
    {
      "cell_type": "code",
      "source": [],
      "metadata": {
        "id": "jX4pHjnrRHUa"
      },
      "execution_count": null,
      "outputs": []
    },
    {
      "cell_type": "markdown",
      "source": [],
      "metadata": {
        "id": "4f_y28tDTzIT"
      }
    },
    {
      "cell_type": "markdown",
      "source": [
        "গ্রুপ করছি ৫ টা রো কে একটা;\n",
        "এরপর সেকশন নেম বের করছি ম্যানুয়ালি section_name = group_data.iloc[0, 0]  যা অন্য সব গুলা গ্রুপ এর জন্য কাজ করতেছিলো;\n",
        "\n",
        "> প্রতি গ্রুপ এ কতো গুলো ইনডেএক্স আছে তা বের করছি max_index = len(group_data.columns), ম্যক্স ইনডেএক্স বের করার কারন হলো কলাম বরাবর ট্রাক করার জন্য;\n",
        "> কেমনে জানি প্রতিটা রো তে ঈ আমরা ডে পাইছি;\n",
        "\n",
        "\n"
      ],
      "metadata": {
        "id": "uvR-sI9BTzJC"
      }
    },
    {
      "cell_type": "code",
      "source": [],
      "metadata": {
        "id": "lv3e3C6VT4FA"
      },
      "execution_count": null,
      "outputs": []
    }
  ]
}